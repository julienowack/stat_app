{
 "cells": [
  {
   "cell_type": "code",
   "execution_count": 1,
   "id": "c9d0c1d1",
   "metadata": {},
   "outputs": [],
   "source": [
    "import pandas as pd\n",
    "import matplotlib.pyplot as plt\n",
    "import numpy as np"
   ]
  },
  {
   "cell_type": "code",
   "execution_count": 2,
   "id": "d8ce0e93",
   "metadata": {},
   "outputs": [],
   "source": [
    "df_France_Official_Data2 = pd.read_csv(\"df_France_Official_Data_month.csv\", index_col=0, header=0, squeeze=True, parse_dates=[0])\n",
    "df_France_Official_Data2['date'] = pd.to_datetime(df_France_Official_Data2['date'])"
   ]
  },
  {
   "cell_type": "code",
   "execution_count": 3,
   "id": "51d784b1",
   "metadata": {},
   "outputs": [],
   "source": [
    "#création de la liste contenant tous les départements pour itérer ensuite\n",
    "liste_departement = df_France_Official_Data2['department'].tolist()"
   ]
  },
  {
   "cell_type": "markdown",
   "id": "827a3d76",
   "metadata": {},
   "source": [
    "## Interpolation sur 1 département"
   ]
  },
  {
   "cell_type": "code",
   "execution_count": 4,
   "id": "e862324f",
   "metadata": {},
   "outputs": [
    {
     "data": {
      "text/html": [
       "<div>\n",
       "<style scoped>\n",
       "    .dataframe tbody tr th:only-of-type {\n",
       "        vertical-align: middle;\n",
       "    }\n",
       "\n",
       "    .dataframe tbody tr th {\n",
       "        vertical-align: top;\n",
       "    }\n",
       "\n",
       "    .dataframe thead th {\n",
       "        text-align: right;\n",
       "    }\n",
       "</style>\n",
       "<table border=\"1\" class=\"dataframe\">\n",
       "  <thead>\n",
       "    <tr style=\"text-align: right;\">\n",
       "      <th></th>\n",
       "      <th>date</th>\n",
       "      <th>value_in_thousands</th>\n",
       "    </tr>\n",
       "  </thead>\n",
       "  <tbody>\n",
       "    <tr>\n",
       "      <th>12</th>\n",
       "      <td>2011-01-01</td>\n",
       "      <td>153.08</td>\n",
       "    </tr>\n",
       "    <tr>\n",
       "      <th>108</th>\n",
       "      <td>2011-02-01</td>\n",
       "      <td>156.19</td>\n",
       "    </tr>\n",
       "    <tr>\n",
       "      <th>204</th>\n",
       "      <td>2011-03-01</td>\n",
       "      <td>216.20</td>\n",
       "    </tr>\n",
       "    <tr>\n",
       "      <th>300</th>\n",
       "      <td>2011-04-01</td>\n",
       "      <td>258.21</td>\n",
       "    </tr>\n",
       "    <tr>\n",
       "      <th>396</th>\n",
       "      <td>2011-05-01</td>\n",
       "      <td>294.41</td>\n",
       "    </tr>\n",
       "    <tr>\n",
       "      <th>...</th>\n",
       "      <td>...</td>\n",
       "      <td>...</td>\n",
       "    </tr>\n",
       "    <tr>\n",
       "      <th>12012</th>\n",
       "      <td>2021-06-01</td>\n",
       "      <td>280.21</td>\n",
       "    </tr>\n",
       "    <tr>\n",
       "      <th>12108</th>\n",
       "      <td>2021-07-01</td>\n",
       "      <td>415.19</td>\n",
       "    </tr>\n",
       "    <tr>\n",
       "      <th>12204</th>\n",
       "      <td>2021-08-01</td>\n",
       "      <td>427.94</td>\n",
       "    </tr>\n",
       "    <tr>\n",
       "      <th>12300</th>\n",
       "      <td>2021-09-01</td>\n",
       "      <td>334.81</td>\n",
       "    </tr>\n",
       "    <tr>\n",
       "      <th>12396</th>\n",
       "      <td>2021-10-01</td>\n",
       "      <td>311.70</td>\n",
       "    </tr>\n",
       "  </tbody>\n",
       "</table>\n",
       "<p>130 rows × 2 columns</p>\n",
       "</div>"
      ],
      "text/plain": [
       "            date  value_in_thousands\n",
       "12    2011-01-01              153.08\n",
       "108   2011-02-01              156.19\n",
       "204   2011-03-01              216.20\n",
       "300   2011-04-01              258.21\n",
       "396   2011-05-01              294.41\n",
       "...          ...                 ...\n",
       "12012 2021-06-01              280.21\n",
       "12108 2021-07-01              415.19\n",
       "12204 2021-08-01              427.94\n",
       "12300 2021-09-01              334.81\n",
       "12396 2021-10-01              311.70\n",
       "\n",
       "[130 rows x 2 columns]"
      ]
     },
     "execution_count": 4,
     "metadata": {},
     "output_type": "execute_result"
    }
   ],
   "source": [
    "df_Official_Data_Sud = df_France_Official_Data2[(df_France_Official_Data2['department']=='Bouches-du-Rhône')] \n",
    "df_Official_Data_Sud\n",
    "essai = df_Official_Data_Sud.drop('department', axis=1)\n",
    "essai"
   ]
  },
  {
   "cell_type": "code",
   "execution_count": 5,
   "id": "3426a2d6",
   "metadata": {},
   "outputs": [
    {
     "name": "stdout",
     "output_type": "stream",
     "text": [
      "            value_in_thousands\n",
      "date                          \n",
      "2011-01-01          153.080000\n",
      "2011-01-02          153.180323\n",
      "2011-01-03          153.280645\n",
      "2011-01-04          153.380968\n",
      "2011-01-05          153.481290\n",
      "2011-01-06          153.581613\n",
      "2011-01-07          153.681935\n",
      "2011-01-08          153.782258\n",
      "2011-01-09          153.882581\n",
      "2011-01-10          153.982903\n",
      "2011-01-11          154.083226\n",
      "2011-01-12          154.183548\n",
      "2011-01-13          154.283871\n",
      "2011-01-14          154.384194\n",
      "2011-01-15          154.484516\n",
      "2011-01-16          154.584839\n",
      "2011-01-17          154.685161\n",
      "2011-01-18          154.785484\n",
      "2011-01-19          154.885806\n",
      "2011-01-20          154.986129\n",
      "2011-01-21          155.086452\n",
      "2011-01-22          155.186774\n",
      "2011-01-23          155.287097\n",
      "2011-01-24          155.387419\n",
      "2011-01-25          155.487742\n",
      "2011-01-26          155.588065\n",
      "2011-01-27          155.688387\n",
      "2011-01-28          155.788710\n",
      "2011-01-29          155.889032\n",
      "2011-01-30          155.989355\n",
      "2011-01-31          156.089677\n",
      "2011-02-01          156.190000\n",
      "2011-02-02          158.333214\n",
      "2011-02-03          160.476429\n",
      "2011-02-04          162.619643\n",
      "2011-02-05          164.762857\n",
      "2011-02-06          166.906071\n",
      "2011-02-07          169.049286\n",
      "2011-02-08          171.192500\n",
      "2011-02-09          173.335714\n",
      "2011-02-10          175.478929\n",
      "2011-02-11          177.622143\n"
     ]
    }
   ],
   "source": [
    "upsampled = essai.set_index('date').resample('1D')\n",
    "interpolated = upsampled.interpolate(method='linear')\n",
    "print(interpolated.head(42))"
   ]
  },
  {
   "cell_type": "markdown",
   "id": "25220dec",
   "metadata": {},
   "source": [
    "## Itération sur tous les départements"
   ]
  },
  {
   "cell_type": "code",
   "execution_count": 6,
   "id": "ca03fc34",
   "metadata": {},
   "outputs": [],
   "source": [
    "def monthtoday (nomdudepartement):\n",
    "    df_Official_Data_Sud = df_France_Official_Data2[(df_France_Official_Data2['department'] == nomdudepartement)] \n",
    "    essai = df_Official_Data_Sud.drop('department', axis=1)\n",
    "    upsampled = essai.set_index('date').resample('1D')\n",
    "    interpolated = upsampled.interpolate(method='linear')\n",
    "\n",
    "    return interpolated\n"
   ]
  },
  {
   "cell_type": "code",
   "execution_count": 7,
   "id": "02842829",
   "metadata": {},
   "outputs": [
    {
     "data": {
      "text/html": [
       "<div>\n",
       "<style scoped>\n",
       "    .dataframe tbody tr th:only-of-type {\n",
       "        vertical-align: middle;\n",
       "    }\n",
       "\n",
       "    .dataframe tbody tr th {\n",
       "        vertical-align: top;\n",
       "    }\n",
       "\n",
       "    .dataframe thead th {\n",
       "        text-align: right;\n",
       "    }\n",
       "</style>\n",
       "<table border=\"1\" class=\"dataframe\">\n",
       "  <thead>\n",
       "    <tr style=\"text-align: right;\">\n",
       "      <th></th>\n",
       "      <th>value_in_thousands</th>\n",
       "    </tr>\n",
       "    <tr>\n",
       "      <th>date</th>\n",
       "      <th></th>\n",
       "    </tr>\n",
       "  </thead>\n",
       "  <tbody>\n",
       "    <tr>\n",
       "      <th>2011-01-01</th>\n",
       "      <td>153.080000</td>\n",
       "    </tr>\n",
       "    <tr>\n",
       "      <th>2011-01-02</th>\n",
       "      <td>153.180323</td>\n",
       "    </tr>\n",
       "    <tr>\n",
       "      <th>2011-01-03</th>\n",
       "      <td>153.280645</td>\n",
       "    </tr>\n",
       "    <tr>\n",
       "      <th>2011-01-04</th>\n",
       "      <td>153.380968</td>\n",
       "    </tr>\n",
       "    <tr>\n",
       "      <th>2011-01-05</th>\n",
       "      <td>153.481290</td>\n",
       "    </tr>\n",
       "    <tr>\n",
       "      <th>...</th>\n",
       "      <td>...</td>\n",
       "    </tr>\n",
       "    <tr>\n",
       "      <th>2021-09-27</th>\n",
       "      <td>314.781333</td>\n",
       "    </tr>\n",
       "    <tr>\n",
       "      <th>2021-09-28</th>\n",
       "      <td>314.011000</td>\n",
       "    </tr>\n",
       "    <tr>\n",
       "      <th>2021-09-29</th>\n",
       "      <td>313.240667</td>\n",
       "    </tr>\n",
       "    <tr>\n",
       "      <th>2021-09-30</th>\n",
       "      <td>312.470333</td>\n",
       "    </tr>\n",
       "    <tr>\n",
       "      <th>2021-10-01</th>\n",
       "      <td>311.700000</td>\n",
       "    </tr>\n",
       "  </tbody>\n",
       "</table>\n",
       "<p>3927 rows × 1 columns</p>\n",
       "</div>"
      ],
      "text/plain": [
       "            value_in_thousands\n",
       "date                          \n",
       "2011-01-01          153.080000\n",
       "2011-01-02          153.180323\n",
       "2011-01-03          153.280645\n",
       "2011-01-04          153.380968\n",
       "2011-01-05          153.481290\n",
       "...                        ...\n",
       "2021-09-27          314.781333\n",
       "2021-09-28          314.011000\n",
       "2021-09-29          313.240667\n",
       "2021-09-30          312.470333\n",
       "2021-10-01          311.700000\n",
       "\n",
       "[3927 rows x 1 columns]"
      ]
     },
     "execution_count": 7,
     "metadata": {},
     "output_type": "execute_result"
    }
   ],
   "source": [
    "monthtoday(\"Bouches-du-Rhône\")"
   ]
  },
  {
   "cell_type": "code",
   "execution_count": null,
   "id": "c0ce17c4",
   "metadata": {},
   "outputs": [],
   "source": [
    "# on initialise avec une dataframe vide\n",
    "df = pd.DataFrame()\n",
    "#on crée la boucle pour ajouter les valeurs pour chaque département dans le dataframe global\n",
    "for i in liste_departement :\n",
    "    x= str(i)\n",
    "    y = monthtoday(x) #j'applique la fonction\n",
    "    y['department']= x #on rajoute la colonne du département\n",
    "    df = pd.concat([df,y]) # je concatène le dataframe de chaque département\n",
    "    "
   ]
  },
  {
   "cell_type": "code",
   "execution_count": null,
   "id": "fb25b7e1",
   "metadata": {},
   "outputs": [],
   "source": [
    "df\n"
   ]
  },
  {
   "cell_type": "code",
   "execution_count": null,
   "id": "8dc28def",
   "metadata": {},
   "outputs": [],
   "source": []
  }
 ],
 "metadata": {
  "kernelspec": {
   "display_name": "Python 3 (ipykernel)",
   "language": "python",
   "name": "python3"
  },
  "language_info": {
   "codemirror_mode": {
    "name": "ipython",
    "version": 3
   },
   "file_extension": ".py",
   "mimetype": "text/x-python",
   "name": "python",
   "nbconvert_exporter": "python",
   "pygments_lexer": "ipython3",
   "version": "3.9.7"
  }
 },
 "nbformat": 4,
 "nbformat_minor": 5
}
